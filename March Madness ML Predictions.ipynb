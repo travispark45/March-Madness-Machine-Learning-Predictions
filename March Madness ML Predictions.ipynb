{
 "cells": [
  {
   "cell_type": "code",
   "execution_count": 2,
   "metadata": {
    "collapsed": false,
    "scrolled": true
   },
   "outputs": [],
   "source": [
    "import numpy as np\n",
    "import matplotlib.pyplot as plt\n",
    "from sklearn.cluster import KMeans\n",
    "from sklearn.svm import SVC\n",
    "from sklearn.model_selection import train_test_split\n",
    "from sklearn.metrics import *\n",
    "from sklearn.linear_model import Perceptron\n",
    "from sklearn import preprocessing\n",
    "from sklearn.preprocessing import minmax_scale\n",
    "from sklearn.preprocessing import StandardScaler\n",
    "from sklearn.neural_network import MLPClassifier\n",
    "from sklearn.ensemble import ExtraTreesClassifier\n",
    "from sklearn.ensemble import AdaBoostClassifier\n",
    "from sklearn.tree import DecisionTreeClassifier\n",
    "from sklearn.neighbors import KNeighborsClassifier\n",
    "from sklearn.naive_bayes import GaussianNB\n",
    "from sklearn.linear_model import SGDClassifier\n",
    "import pandas as pd\n",
    "from pandas.tools.plotting import scatter_matrix\n",
    "import random\n",
    "import itertools\n",
    "import seaborn as sns\n",
    "\n",
    "sns.set(style = 'darkgrid')\n",
    "% matplotlib inline"
   ]
  },
  {
   "cell_type": "code",
   "execution_count": 3,
   "metadata": {
    "collapsed": true,
    "scrolled": true
   },
   "outputs": [],
   "source": [
    "def plot_confusion_matrix(cm, classes,\n",
    "                          normalize=False,\n",
    "                          title='Confusion matrix',\n",
    "                          cmap=plt.cm.Blues):\n",
    "    \"\"\"\n",
    "    This function prints and plots the confusion matrix.\n",
    "    Normalization can be applied by setting `normalize=True`.\n",
    "    \"\"\"\n",
    "    plt.imshow(cm, interpolation='nearest', cmap=cmap)\n",
    "    plt.title(title)\n",
    "    plt.colorbar()\n",
    "    tick_marks = np.arange(len(classes))\n",
    "    plt.xticks(tick_marks, classes, rotation=45)\n",
    "    plt.yticks(tick_marks, classes)\n",
    "\n",
    "    if normalize:\n",
    "        cm = cm.astype('float') / cm.sum(axis=1)[:, np.newaxis]\n",
    "        print(\"Normalized confusion matrix\")\n",
    "    else:\n",
    "        print('Confusion matrix, without normalization')\n",
    "\n",
    "    print(cm)\n",
    "\n",
    "    thresh = cm.max() / 2.\n",
    "    for i, j in itertools.product(range(cm.shape[0]), range(cm.shape[1])):\n",
    "        plt.text(j, i, cm[i, j],\n",
    "                 horizontalalignment=\"center\",\n",
    "                 color=\"white\" if cm[i, j] > thresh else \"black\")\n",
    "\n",
    "    plt.tight_layout()\n",
    "    plt.ylabel('True label')\n",
    "    plt.xlabel('Predicted label')"
   ]
  },
  {
   "cell_type": "code",
   "execution_count": 4,
   "metadata": {
    "collapsed": false,
    "scrolled": true
   },
   "outputs": [],
   "source": [
    "up = pd.read_excel('C:\\\\Users\\\\Travis Park\\\\Google Drive\\\\Spring 2017\\\\March Madness\\\\Data\\\\Upset.xlsx', sheet = 'Upset')"
   ]
  },
  {
   "cell_type": "code",
   "execution_count": 5,
   "metadata": {
    "collapsed": false,
    "scrolled": true
   },
   "outputs": [
    {
     "data": {
      "text/html": [
       "<div>\n",
       "<table border=\"1\" class=\"dataframe\">\n",
       "  <thead>\n",
       "    <tr style=\"text-align: right;\">\n",
       "      <th></th>\n",
       "      <th>Numot</th>\n",
       "      <th>Season</th>\n",
       "      <th>game_id</th>\n",
       "      <th>host_lat</th>\n",
       "      <th>host_long</th>\n",
       "      <th>host_site</th>\n",
       "      <th>season</th>\n",
       "      <th>Upset</th>\n",
       "      <th>team1_win</th>\n",
       "      <th>team1_id</th>\n",
       "      <th>...</th>\n",
       "      <th>team2_pt_school_ff</th>\n",
       "      <th>team2_pt_overall_ff</th>\n",
       "      <th>team2_pt_career_school_wins</th>\n",
       "      <th>team2_pt_career_school_losses</th>\n",
       "      <th>team2_pt_career_overall_losses</th>\n",
       "      <th>team2_pt_team_season_wins</th>\n",
       "      <th>team2_pt_team_season_losses</th>\n",
       "      <th>team2_pt_coach_season_wins</th>\n",
       "      <th>team2_pt_coach_season_losses</th>\n",
       "      <th>result</th>\n",
       "    </tr>\n",
       "  </thead>\n",
       "  <tbody>\n",
       "    <tr>\n",
       "      <th>0</th>\n",
       "      <td>0</td>\n",
       "      <td>2003</td>\n",
       "      <td>2003-1112-1242</td>\n",
       "      <td>33.8361</td>\n",
       "      <td>-117.8897</td>\n",
       "      <td>Anaheim</td>\n",
       "      <td>2003</td>\n",
       "      <td>0</td>\n",
       "      <td>0</td>\n",
       "      <td>1112</td>\n",
       "      <td>...</td>\n",
       "      <td>3</td>\n",
       "      <td>3</td>\n",
       "      <td>413</td>\n",
       "      <td>100</td>\n",
       "      <td>100</td>\n",
       "      <td>25</td>\n",
       "      <td>7</td>\n",
       "      <td>25</td>\n",
       "      <td>7</td>\n",
       "      <td>0</td>\n",
       "    </tr>\n",
       "  </tbody>\n",
       "</table>\n",
       "<p>1 rows × 147 columns</p>\n",
       "</div>"
      ],
      "text/plain": [
       "   Numot  Season         game_id  host_lat  host_long host_site  season  \\\n",
       "0      0    2003  2003-1112-1242   33.8361  -117.8897   Anaheim    2003   \n",
       "\n",
       "   Upset  team1_win  team1_id   ...    team2_pt_school_ff  \\\n",
       "0      0          0      1112   ...                     3   \n",
       "\n",
       "   team2_pt_overall_ff  team2_pt_career_school_wins  \\\n",
       "0                    3                          413   \n",
       "\n",
       "   team2_pt_career_school_losses  team2_pt_career_overall_losses  \\\n",
       "0                            100                             100   \n",
       "\n",
       "   team2_pt_team_season_wins  team2_pt_team_season_losses  \\\n",
       "0                         25                            7   \n",
       "\n",
       "   team2_pt_coach_season_wins  team2_pt_coach_season_losses  result  \n",
       "0                          25                             7       0  \n",
       "\n",
       "[1 rows x 147 columns]"
      ]
     },
     "execution_count": 5,
     "metadata": {},
     "output_type": "execute_result"
    }
   ],
   "source": [
    "up.head(1)"
   ]
  },
  {
   "cell_type": "code",
   "execution_count": 6,
   "metadata": {
    "collapsed": false
   },
   "outputs": [
    {
     "data": {
      "text/plain": [
       "Index(['Numot', 'Season', 'game_id', 'host_lat', 'host_long', 'host_site',\n",
       "       'season', 'Upset', 'team1_win', 'team1_id',\n",
       "       ...\n",
       "       'team2_pt_school_ff', 'team2_pt_overall_ff',\n",
       "       'team2_pt_career_school_wins', 'team2_pt_career_school_losses',\n",
       "       'team2_pt_career_overall_losses', 'team2_pt_team_season_wins',\n",
       "       'team2_pt_team_season_losses', 'team2_pt_coach_season_wins',\n",
       "       'team2_pt_coach_season_losses', 'result'],\n",
       "      dtype='object', length=147)"
      ]
     },
     "execution_count": 6,
     "metadata": {},
     "output_type": "execute_result"
    }
   ],
   "source": [
    "up.columns"
   ]
  },
  {
   "cell_type": "code",
   "execution_count": 7,
   "metadata": {
    "collapsed": false,
    "scrolled": true
   },
   "outputs": [
    {
     "data": {
      "text/html": [
       "<div>\n",
       "<table border=\"1\" class=\"dataframe\">\n",
       "  <thead>\n",
       "    <tr style=\"text-align: right;\">\n",
       "      <th></th>\n",
       "      <th>R_seed</th>\n",
       "      <th>R_lat</th>\n",
       "      <th>R_long</th>\n",
       "      <th>R_dist</th>\n",
       "      <th>R_fg2pct</th>\n",
       "      <th>R_fg3pct</th>\n",
       "      <th>R_ftpct</th>\n",
       "      <th>R_blockpct</th>\n",
       "      <th>R_oppfg2pct</th>\n",
       "      <th>R_oppfg3pct</th>\n",
       "      <th>...</th>\n",
       "      <th>R_adjde</th>\n",
       "      <th>R_rpi_rating</th>\n",
       "      <th>R_adjRPI</th>\n",
       "      <th>R_ascore</th>\n",
       "      <th>R_aagainst</th>\n",
       "      <th>R_ato</th>\n",
       "      <th>R_ashoot</th>\n",
       "      <th>R_a3shoot</th>\n",
       "      <th>upset</th>\n",
       "      <th>team1_win</th>\n",
       "    </tr>\n",
       "  </thead>\n",
       "  <tbody>\n",
       "    <tr>\n",
       "      <th>0</th>\n",
       "      <td>0.405465</td>\n",
       "      <td>0.827368</td>\n",
       "      <td>1.164888</td>\n",
       "      <td>0.267559</td>\n",
       "      <td>0.950253</td>\n",
       "      <td>1.060465</td>\n",
       "      <td>1.087345</td>\n",
       "      <td>0.83242</td>\n",
       "      <td>1.058932</td>\n",
       "      <td>0.877411</td>\n",
       "      <td>...</td>\n",
       "      <td>1.022211</td>\n",
       "      <td>1.0144</td>\n",
       "      <td>0.991728</td>\n",
       "      <td>1.053075</td>\n",
       "      <td>0.993385</td>\n",
       "      <td>0.905172</td>\n",
       "      <td>1.006757</td>\n",
       "      <td>1.08449</td>\n",
       "      <td>0</td>\n",
       "      <td>0</td>\n",
       "    </tr>\n",
       "  </tbody>\n",
       "</table>\n",
       "<p>1 rows × 33 columns</p>\n",
       "</div>"
      ],
      "text/plain": [
       "     R_seed     R_lat    R_long    R_dist  R_fg2pct  R_fg3pct   R_ftpct  \\\n",
       "0  0.405465  0.827368  1.164888  0.267559  0.950253  1.060465  1.087345   \n",
       "\n",
       "   R_blockpct  R_oppfg2pct  R_oppfg3pct    ...       R_adjde  R_rpi_rating  \\\n",
       "0     0.83242     1.058932     0.877411    ...      1.022211        1.0144   \n",
       "\n",
       "   R_adjRPI  R_ascore  R_aagainst     R_ato  R_ashoot  R_a3shoot  upset  \\\n",
       "0  0.991728  1.053075    0.993385  0.905172  1.006757    1.08449      0   \n",
       "\n",
       "   team1_win  \n",
       "0          0  \n",
       "\n",
       "[1 rows x 33 columns]"
      ]
     },
     "execution_count": 7,
     "metadata": {},
     "output_type": "execute_result"
    }
   ],
   "source": [
    "up_r = up.ix[:,13:44]\n",
    "up_r['R_dist'] = np.log1p(up['R_dist'])\n",
    "up_r['R_seed'] = np.log1p(up['R_seed'])\n",
    "up_r['upset'] = up['Upset']\n",
    "up_r['team1_win'] = up['team1_win']\n",
    "up_r.head(1)"
   ]
  },
  {
   "cell_type": "markdown",
   "metadata": {
    "collapsed": false,
    "scrolled": true
   },
   "source": [
    "mup_r = pd.melt(up_r, \"team1_win\", var_name=\"measurement\")\n",
    "fig, ax = plt.subplots(figsize=(10,5))\n",
    "p = sns.violinplot(ax=ax, x=\"measurement\", y=\"value\", hue=\"team1_win\", split = True, data=mup_r, inner = 'quartile', palette = 'Set2');\n",
    "p.set_xticklabels(rotation = 90, labels = list(up_r.columns));"
   ]
  },
  {
   "cell_type": "code",
   "execution_count": 8,
   "metadata": {
    "collapsed": false
   },
   "outputs": [
    {
     "name": "stdout",
     "output_type": "stream",
     "text": [
      "1.0\n"
     ]
    },
    {
     "name": "stderr",
     "output_type": "stream",
     "text": [
      "C:\\Users\\Travis Park\\Anaconda3_1\\lib\\site-packages\\ipykernel\\__main__.py:7: FutureWarning: sort(columns=....) is deprecated, use sort_values(by=.....)\n"
     ]
    },
    {
     "data": {
      "text/html": [
       "<div>\n",
       "<table border=\"1\" class=\"dataframe\">\n",
       "  <thead>\n",
       "    <tr style=\"text-align: right;\">\n",
       "      <th></th>\n",
       "      <th>score</th>\n",
       "      <th>feature</th>\n",
       "    </tr>\n",
       "  </thead>\n",
       "  <tbody>\n",
       "    <tr>\n",
       "      <th>0</th>\n",
       "      <td>0.134310</td>\n",
       "      <td>R_seed</td>\n",
       "    </tr>\n",
       "    <tr>\n",
       "      <th>25</th>\n",
       "      <td>0.061205</td>\n",
       "      <td>R_adjRPI</td>\n",
       "    </tr>\n",
       "    <tr>\n",
       "      <th>23</th>\n",
       "      <td>0.048815</td>\n",
       "      <td>R_adjde</td>\n",
       "    </tr>\n",
       "    <tr>\n",
       "      <th>21</th>\n",
       "      <td>0.046659</td>\n",
       "      <td>R_adjoe</td>\n",
       "    </tr>\n",
       "    <tr>\n",
       "      <th>20</th>\n",
       "      <td>0.046540</td>\n",
       "      <td>R_oe</td>\n",
       "    </tr>\n",
       "  </tbody>\n",
       "</table>\n",
       "</div>"
      ],
      "text/plain": [
       "       score   feature\n",
       "0   0.134310    R_seed\n",
       "25  0.061205  R_adjRPI\n",
       "23  0.048815   R_adjde\n",
       "21  0.046659   R_adjoe\n",
       "20  0.046540      R_oe"
      ]
     },
     "execution_count": 8,
     "metadata": {},
     "output_type": "execute_result"
    }
   ],
   "source": [
    "X = up_r.ix[:,:31]\n",
    "y = up_r['team1_win']\n",
    "model = ExtraTreesClassifier()\n",
    "model.fit(X, y)\n",
    "z = pd.DataFrame(model.feature_importances_, columns = ['score'])\n",
    "z['feature'] = list(X.columns)\n",
    "z = z.sort(columns = 'score', ascending = False)\n",
    "print(model.score(X,y))\n",
    "feats = list(z['feature'])\n",
    "z.head()"
   ]
  },
  {
   "cell_type": "code",
   "execution_count": 9,
   "metadata": {
    "collapsed": false,
    "scrolled": false
   },
   "outputs": [
    {
     "name": "stderr",
     "output_type": "stream",
     "text": [
      "C:\\Users\\Travis Park\\Anaconda3_1\\lib\\site-packages\\ipykernel\\__main__.py:3: SettingWithCopyWarning: \n",
      "A value is trying to be set on a copy of a slice from a DataFrame.\n",
      "Try using .loc[row_indexer,col_indexer] = value instead\n",
      "\n",
      "See the caveats in the documentation: http://pandas.pydata.org/pandas-docs/stable/indexing.html#indexing-view-versus-copy\n",
      "  app.launch_new_instance()\n"
     ]
    },
    {
     "data": {
      "text/html": [
       "<div>\n",
       "<table border=\"1\" class=\"dataframe\">\n",
       "  <thead>\n",
       "    <tr style=\"text-align: right;\">\n",
       "      <th></th>\n",
       "      <th>R_seed</th>\n",
       "      <th>R_adjRPI</th>\n",
       "      <th>R_adjde</th>\n",
       "      <th>R_adjoe</th>\n",
       "      <th>R_oe</th>\n",
       "      <th>R_rpi_rating</th>\n",
       "      <th>R_arate</th>\n",
       "      <th>R_lat</th>\n",
       "      <th>R_oppftpct</th>\n",
       "      <th>R_oppblockpct</th>\n",
       "      <th>...</th>\n",
       "      <th>R_ashoot</th>\n",
       "      <th>R_oppfg2pct</th>\n",
       "      <th>R_adjtempo</th>\n",
       "      <th>R_dist</th>\n",
       "      <th>R_oppstlrate</th>\n",
       "      <th>R_ftpct</th>\n",
       "      <th>R_f3grate</th>\n",
       "      <th>R_tempo</th>\n",
       "      <th>R_a3shoot</th>\n",
       "      <th>team1_win</th>\n",
       "    </tr>\n",
       "  </thead>\n",
       "  <tbody>\n",
       "    <tr>\n",
       "      <th>0</th>\n",
       "      <td>0.405465</td>\n",
       "      <td>0.991728</td>\n",
       "      <td>1.022211</td>\n",
       "      <td>1.024358</td>\n",
       "      <td>1.009938</td>\n",
       "      <td>1.0144</td>\n",
       "      <td>1.068719</td>\n",
       "      <td>0.827368</td>\n",
       "      <td>0.925248</td>\n",
       "      <td>0.634667</td>\n",
       "      <td>...</td>\n",
       "      <td>1.006757</td>\n",
       "      <td>1.058932</td>\n",
       "      <td>1.011828</td>\n",
       "      <td>0.267559</td>\n",
       "      <td>0.871932</td>\n",
       "      <td>1.087345</td>\n",
       "      <td>1.335265</td>\n",
       "      <td>1.028359</td>\n",
       "      <td>1.08449</td>\n",
       "      <td>0</td>\n",
       "    </tr>\n",
       "  </tbody>\n",
       "</table>\n",
       "<p>1 rows × 32 columns</p>\n",
       "</div>"
      ],
      "text/plain": [
       "     R_seed  R_adjRPI   R_adjde   R_adjoe      R_oe  R_rpi_rating   R_arate  \\\n",
       "0  0.405465  0.991728  1.022211  1.024358  1.009938        1.0144  1.068719   \n",
       "\n",
       "      R_lat  R_oppftpct  R_oppblockpct    ...      R_ashoot  R_oppfg2pct  \\\n",
       "0  0.827368    0.925248       0.634667    ...      1.006757     1.058932   \n",
       "\n",
       "   R_adjtempo    R_dist  R_oppstlrate   R_ftpct  R_f3grate   R_tempo  \\\n",
       "0    1.011828  0.267559      0.871932  1.087345   1.335265  1.028359   \n",
       "\n",
       "   R_a3shoot  team1_win  \n",
       "0    1.08449          0  \n",
       "\n",
       "[1 rows x 32 columns]"
      ]
     },
     "execution_count": 9,
     "metadata": {},
     "output_type": "execute_result"
    }
   ],
   "source": [
    "up_season = up_r[['R_seed', 'R_rpi_rating', 'R_adjRPI', 'R_ascore', 'R_aagainst', 'R_ato','R_ashoot','R_a3shoot']]\n",
    "up_f = up_r[feats]\n",
    "up_f['team1_win'] = up_r['team1_win']\n",
    "up_f.head(1)"
   ]
  },
  {
   "cell_type": "code",
   "execution_count": 10,
   "metadata": {
    "collapsed": false
   },
   "outputs": [
    {
     "data": {
      "image/png": "[encoded data removed]",
      "text/plain": [
       "<matplotlib.figure.Figure at 0x140982a9c88>"
      ]
     },
     "metadata": {},
     "output_type": "display_data"
    }
   ],
   "source": [
    "sns.lmplot(x = 'R_rpi_rating', y = 'R_adjRPI',  hue='team1_win', size = 6, data = up_f);"
   ]
  },
  {
   "cell_type": "markdown",
   "metadata": {
    "collapsed": false,
    "scrolled": false
   },
   "source": [
    "sns.jointplot(x = up_f['R_seed'], y = up_f['R_oppfg2pct'], kind='reg', color=\"#4CB391\", size = 6);"
   ]
  },
  {
   "cell_type": "code",
   "execution_count": 11,
   "metadata": {
    "collapsed": false
   },
   "outputs": [],
   "source": [
    "X = up_season.ix[:,:]\n",
    "y = up_f['team1_win']\n",
    "class_names = list(y.unique())"
   ]
  },
  {
   "cell_type": "code",
   "execution_count": 12,
   "metadata": {
    "collapsed": false
   },
   "outputs": [
    {
     "data": {
      "text/plain": [
       "Index(['R_seed', 'R_rpi_rating', 'R_adjRPI', 'R_ascore', 'R_aagainst', 'R_ato',\n",
       "       'R_ashoot', 'R_a3shoot'],\n",
       "      dtype='object')"
      ]
     },
     "execution_count": 12,
     "metadata": {},
     "output_type": "execute_result"
    }
   ],
   "source": [
    "X.columns"
   ]
  },
  {
   "cell_type": "code",
   "execution_count": 13,
   "metadata": {
    "collapsed": false,
    "scrolled": true
   },
   "outputs": [],
   "source": [
    "X_train, X_test, y_train, y_test = train_test_split(X, y, test_size=0.33, random_state=42)\n",
    "\n",
    "scaler = StandardScaler() \n",
    "scaler.fit(X_train)\n",
    "# Don't cheat - fit only on training data\n",
    "scaler.fit(X_train)  \n",
    "X_train = scaler.transform(X_train)  \n",
    "# apply same transformation to test data\n",
    "X_test = scaler.transform(X_test)  "
   ]
  },
  {
   "cell_type": "code",
   "execution_count": 14,
   "metadata": {
    "collapsed": false
   },
   "outputs": [
    {
     "name": "stderr",
     "output_type": "stream",
     "text": [
      "C:\\Users\\Travis Park\\Anaconda3_1\\lib\\site-packages\\ipykernel\\__main__.py:7: SettingWithCopyWarning: \n",
      "A value is trying to be set on a copy of a slice from a DataFrame.\n",
      "Try using .loc[row_indexer,col_indexer] = value instead\n",
      "\n",
      "See the caveats in the documentation: http://pandas.pydata.org/pandas-docs/stable/indexing.html#indexing-view-versus-copy\n",
      "C:\\Users\\Travis Park\\Anaconda3_1\\lib\\site-packages\\ipykernel\\__main__.py:9: SettingWithCopyWarning: \n",
      "A value is trying to be set on a copy of a slice from a DataFrame.\n",
      "Try using .loc[row_indexer,col_indexer] = value instead\n",
      "\n",
      "See the caveats in the documentation: http://pandas.pydata.org/pandas-docs/stable/indexing.html#indexing-view-versus-copy\n"
     ]
    }
   ],
   "source": [
    "kmeans = KMeans(n_clusters = 5, random_state = 0)\n",
    "\n",
    "kmeans_pred = kmeans.fit(X_train).predict(X_test)\n",
    "#kmeans.score(X_train,y_train), kmeans.score(X_test, y_test),kmeans.score(X_train,y_train)-kmeans.score(X_test,y_test)\n",
    "\n",
    "clust = kmeans.fit(X).predict(X)\n",
    "X['Clust'] = clust\n",
    "up_f['Clust'] = clust\n",
    "up_season['Clust'] = clust"
   ]
  },
  {
   "cell_type": "code",
   "execution_count": 15,
   "metadata": {
    "collapsed": false
   },
   "outputs": [
    {
     "data": {
      "text/html": [
       "<div>\n",
       "<table border=\"1\" class=\"dataframe\">\n",
       "  <thead>\n",
       "    <tr style=\"text-align: right;\">\n",
       "      <th></th>\n",
       "      <th>Clust</th>\n",
       "      <th>team1_win</th>\n",
       "    </tr>\n",
       "  </thead>\n",
       "  <tbody>\n",
       "    <tr>\n",
       "      <th>0</th>\n",
       "      <td>0</td>\n",
       "      <td>0.434615</td>\n",
       "    </tr>\n",
       "    <tr>\n",
       "      <th>1</th>\n",
       "      <td>1</td>\n",
       "      <td>0.250000</td>\n",
       "    </tr>\n",
       "    <tr>\n",
       "      <th>2</th>\n",
       "      <td>2</td>\n",
       "      <td>0.713333</td>\n",
       "    </tr>\n",
       "    <tr>\n",
       "      <th>3</th>\n",
       "      <td>3</td>\n",
       "      <td>0.065934</td>\n",
       "    </tr>\n",
       "    <tr>\n",
       "      <th>4</th>\n",
       "      <td>4</td>\n",
       "      <td>0.807229</td>\n",
       "    </tr>\n",
       "  </tbody>\n",
       "</table>\n",
       "</div>"
      ],
      "text/plain": [
       "   Clust  team1_win\n",
       "0      0   0.434615\n",
       "1      1   0.250000\n",
       "2      2   0.713333\n",
       "3      3   0.065934\n",
       "4      4   0.807229"
      ]
     },
     "execution_count": 15,
     "metadata": {},
     "output_type": "execute_result"
    }
   ],
   "source": [
    "c_score = pd.DataFrame(up_f.pivot_table(index = 'Clust', values = 'team1_win', aggfunc = np.mean))\n",
    "c_score = c_score.reset_index()\n",
    "c_score"
   ]
  },
  {
   "cell_type": "code",
   "execution_count": 16,
   "metadata": {
    "collapsed": false
   },
   "outputs": [],
   "source": [
    "X = pd.merge(X,c_score, how = 'left', left_on = 'Clust',right_on = 'Clust')\n",
    "#X = X.drop('team1_win_y', axis = 1)\n",
    "#X = X.drop('team1_win_x', axis = 1)\n",
    "X = X.drop('Clust', axis = 1)\n",
    "\n",
    "up_season = pd.merge(up_season,c_score, how = 'left', left_on = 'Clust',right_on = 'Clust')\n",
    "#up_season = up_season.drop('team1_win_y', axis = 1)\n",
    "#up_season = up_season.drop('team1_win_x', axis = 1)\n",
    "up_season = up_season.drop('Clust', axis = 1)"
   ]
  },
  {
   "cell_type": "code",
   "execution_count": 17,
   "metadata": {
    "collapsed": false
   },
   "outputs": [
    {
     "data": {
      "text/html": [
       "<div>\n",
       "<table border=\"1\" class=\"dataframe\">\n",
       "  <thead>\n",
       "    <tr style=\"text-align: right;\">\n",
       "      <th></th>\n",
       "      <th>R_seed</th>\n",
       "      <th>R_rpi_rating</th>\n",
       "      <th>R_adjRPI</th>\n",
       "      <th>R_ascore</th>\n",
       "      <th>R_aagainst</th>\n",
       "      <th>R_ato</th>\n",
       "      <th>R_ashoot</th>\n",
       "      <th>R_a3shoot</th>\n",
       "      <th>team1_win</th>\n",
       "    </tr>\n",
       "  </thead>\n",
       "  <tbody>\n",
       "    <tr>\n",
       "      <th>0</th>\n",
       "      <td>0.405465</td>\n",
       "      <td>1.0144</td>\n",
       "      <td>0.991728</td>\n",
       "      <td>1.053075</td>\n",
       "      <td>0.993385</td>\n",
       "      <td>0.905172</td>\n",
       "      <td>1.006757</td>\n",
       "      <td>1.08449</td>\n",
       "      <td>0.713333</td>\n",
       "    </tr>\n",
       "  </tbody>\n",
       "</table>\n",
       "</div>"
      ],
      "text/plain": [
       "     R_seed  R_rpi_rating  R_adjRPI  R_ascore  R_aagainst     R_ato  R_ashoot  \\\n",
       "0  0.405465        1.0144  0.991728  1.053075    0.993385  0.905172  1.006757   \n",
       "\n",
       "   R_a3shoot  team1_win  \n",
       "0    1.08449   0.713333  "
      ]
     },
     "execution_count": 17,
     "metadata": {},
     "output_type": "execute_result"
    }
   ],
   "source": [
    "up_season.head(1)"
   ]
  },
  {
   "cell_type": "code",
   "execution_count": 18,
   "metadata": {
    "collapsed": false
   },
   "outputs": [
    {
     "name": "stdout",
     "output_type": "stream",
     "text": [
      "<class 'pandas.core.frame.DataFrame'>\n",
      "Int64Index: 914 entries, 0 to 913\n",
      "Data columns (total 9 columns):\n",
      "R_seed          914 non-null float64\n",
      "R_rpi_rating    914 non-null float64\n",
      "R_adjRPI        914 non-null float64\n",
      "R_ascore        914 non-null float64\n",
      "R_aagainst      914 non-null float64\n",
      "R_ato           914 non-null float64\n",
      "R_ashoot        914 non-null float64\n",
      "R_a3shoot       914 non-null float64\n",
      "team1_win       914 non-null float64\n",
      "dtypes: float64(9)\n",
      "memory usage: 71.4 KB\n"
     ]
    }
   ],
   "source": [
    "X.info()"
   ]
  },
  {
   "cell_type": "code",
   "execution_count": 19,
   "metadata": {
    "collapsed": false
   },
   "outputs": [],
   "source": [
    "X_train, X_test, y_train, y_test = train_test_split(X, y, test_size=0.33, random_state=42)\n",
    "\n",
    "scaler = StandardScaler() \n",
    "# Don't cheat - fit only on training data\n",
    "scaler.fit(X_train)  \n",
    "X_train = scaler.transform(X_train)  \n",
    "# apply same transformation to test data\n",
    "X_test = scaler.transform(X_test)  "
   ]
  },
  {
   "cell_type": "code",
   "execution_count": 20,
   "metadata": {
    "collapsed": true
   },
   "outputs": [],
   "source": [
    "m_eval = pd.DataFrame(columns = ['method','trainscore','testscore','truepos','trueneg'])"
   ]
  },
  {
   "cell_type": "code",
   "execution_count": 21,
   "metadata": {
    "collapsed": true
   },
   "outputs": [],
   "source": [
    "def addeval(method, train, test, tpos, tneg):\n",
    "    global m_eval\n",
    "    d = pd.DataFrame([[method, train, test, tpos, tneg]],columns = ['method','trainscore','testscore','truepos','trueneg'])\n",
    "    m_eval = m_eval.append(d)"
   ]
  },
  {
   "cell_type": "markdown",
   "metadata": {},
   "source": [
    "# SVC"
   ]
  },
  {
   "cell_type": "code",
   "execution_count": 22,
   "metadata": {
    "collapsed": false,
    "scrolled": true
   },
   "outputs": [
    {
     "data": {
      "text/plain": [
       "(0.72058823529411764, 0.7185430463576159, 0.0020451889365017406)"
      ]
     },
     "execution_count": 22,
     "metadata": {},
     "output_type": "execute_result"
    }
   ],
   "source": [
    "###SVC\n",
    "svc = SVC(kernel = 'rbf',C=1, gamma=.1, probability = True)\n",
    "#svc.fit(X,y)\n",
    "svc_pred = svc.fit(X_train, y_train).predict(X_test)\n",
    "t = pd.DataFrame(svc.predict_proba(X_test))\n",
    "svc.score(X_train,y_train), svc.score(X_test, y_test),svc.score(X_train,y_train)-svc.score(X_test,y_test)"
   ]
  },
  {
   "cell_type": "code",
   "execution_count": 23,
   "metadata": {
    "collapsed": false,
    "scrolled": true
   },
   "outputs": [
    {
     "data": {
      "text/plain": [
       "array([[121,  19],\n",
       "       [ 66,  96]])"
      ]
     },
     "execution_count": 23,
     "metadata": {},
     "output_type": "execute_result"
    }
   ],
   "source": [
    "mtrx = confusion_matrix(y_test,svc_pred)\n",
    "mtrx"
   ]
  },
  {
   "cell_type": "code",
   "execution_count": 24,
   "metadata": {
    "collapsed": false,
    "scrolled": true
   },
   "outputs": [],
   "source": [
    "addeval('SVC',svc.score(X_train,y_train), svc.score(X_test, y_test),mtrx[0,0],mtrx[1,1])"
   ]
  },
  {
   "cell_type": "markdown",
   "metadata": {},
   "source": [
    "# Neural Net"
   ]
  },
  {
   "cell_type": "code",
   "execution_count": 25,
   "metadata": {
    "collapsed": false
   },
   "outputs": [
    {
     "data": {
      "text/plain": [
       "(0.70915032679738566, 0.71523178807947019, -0.0060814612820845326)"
      ]
     },
     "execution_count": 25,
     "metadata": {},
     "output_type": "execute_result"
    }
   ],
   "source": [
    "###Neural Net\n",
    "nn = MLPClassifier(solver='adam', activation = 'logistic',hidden_layer_sizes=(20, 15), random_state=1)\n",
    "\n",
    "nn_pred = nn.fit(X_train,y_train).predict(X_test)\n",
    "nn.score(X_train,y_train), nn.score(X_test,y_test), nn.score(X_train,y_train)-nn.score(X_test,y_test)"
   ]
  },
  {
   "cell_type": "code",
   "execution_count": 26,
   "metadata": {
    "collapsed": false
   },
   "outputs": [
    {
     "data": {
      "text/plain": [
       "array([[118,  22],\n",
       "       [ 64,  98]])"
      ]
     },
     "execution_count": 26,
     "metadata": {},
     "output_type": "execute_result"
    }
   ],
   "source": [
    "mtrx = confusion_matrix(y_test,nn_pred)\n",
    "mtrx"
   ]
  },
  {
   "cell_type": "code",
   "execution_count": 27,
   "metadata": {
    "collapsed": true
   },
   "outputs": [],
   "source": [
    "addeval('Neural Net',nn.score(X_train,y_train), nn.score(X_test, y_test),mtrx[0,0],mtrx[1,1])"
   ]
  },
  {
   "cell_type": "markdown",
   "metadata": {},
   "source": [
    "# Extra Trees"
   ]
  },
  {
   "cell_type": "code",
   "execution_count": 28,
   "metadata": {
    "collapsed": false
   },
   "outputs": [
    {
     "data": {
      "text/plain": [
       "(1.0, 0.67218543046357615, 0.32781456953642385)"
      ]
     },
     "execution_count": 28,
     "metadata": {},
     "output_type": "execute_result"
    }
   ],
   "source": [
    "###ETC\n",
    "etc = ExtraTreesClassifier()\n",
    "etc_pred = etc.fit(X_train,y_train).predict(X_test)\n",
    "etc.score(X_train,y_train), etc.score(X_test,y_test), etc.score(X_train,y_train)-etc.score(X_test,y_test)"
   ]
  },
  {
   "cell_type": "code",
   "execution_count": 29,
   "metadata": {
    "collapsed": false
   },
   "outputs": [
    {
     "data": {
      "text/plain": [
       "array([[110,  30],\n",
       "       [ 69,  93]])"
      ]
     },
     "execution_count": 29,
     "metadata": {},
     "output_type": "execute_result"
    }
   ],
   "source": [
    "mtrx = confusion_matrix(y_test,etc_pred)\n",
    "mtrx"
   ]
  },
  {
   "cell_type": "code",
   "execution_count": 30,
   "metadata": {
    "collapsed": true
   },
   "outputs": [],
   "source": [
    "addeval('Extra Trees',etc.score(X_train,y_train), etc.score(X_test, y_test),mtrx[0,0],mtrx[1,1])"
   ]
  },
  {
   "cell_type": "markdown",
   "metadata": {},
   "source": [
    "# Adaptive Boosting"
   ]
  },
  {
   "cell_type": "code",
   "execution_count": 31,
   "metadata": {
    "collapsed": false
   },
   "outputs": [
    {
     "data": {
      "text/plain": [
       "(1.0, 0.65231788079470199, 0.34768211920529801)"
      ]
     },
     "execution_count": 31,
     "metadata": {},
     "output_type": "execute_result"
    }
   ],
   "source": [
    "###Adaptive Boosting\n",
    "ada = AdaBoostClassifier(DecisionTreeClassifier(max_depth=2),n_estimators=600,learning_rate=1)\n",
    "\n",
    "ada_pred = ada.fit(X_train,y_train).predict(X_test)\n",
    "ada.score(X_train,y_train), ada.score(X_test,y_test), ada.score(X_train,y_train)-ada.score(X_test,y_test)"
   ]
  },
  {
   "cell_type": "code",
   "execution_count": 32,
   "metadata": {
    "collapsed": false
   },
   "outputs": [
    {
     "data": {
      "text/plain": [
       "array([[104,  36],\n",
       "       [ 69,  93]])"
      ]
     },
     "execution_count": 32,
     "metadata": {},
     "output_type": "execute_result"
    }
   ],
   "source": [
    "mtrx = confusion_matrix(y_test,ada_pred)\n",
    "mtrx"
   ]
  },
  {
   "cell_type": "code",
   "execution_count": 33,
   "metadata": {
    "collapsed": true
   },
   "outputs": [],
   "source": [
    "addeval('Ada',ada.score(X_train,y_train), ada.score(X_test, y_test),mtrx[0,0],mtrx[1,1])"
   ]
  },
  {
   "cell_type": "markdown",
   "metadata": {},
   "source": [
    "# KNN"
   ]
  },
  {
   "cell_type": "code",
   "execution_count": 34,
   "metadata": {
    "collapsed": false
   },
   "outputs": [
    {
     "data": {
      "text/plain": [
       "(0.70261437908496727, 0.68543046357615889, 0.017183915508808378)"
      ]
     },
     "execution_count": 34,
     "metadata": {},
     "output_type": "execute_result"
    }
   ],
   "source": [
    "knn = KNeighborsClassifier(n_neighbors = 14, algorithm = 'auto', weights = 'uniform')\n",
    "knn_pred = knn.fit(X_train, y_train).predict(X_test)\n",
    "knn.score(X_train,y_train), knn.score(X_test,y_test), knn.score(X_train,y_train)-knn.score(X_test,y_test)"
   ]
  },
  {
   "cell_type": "code",
   "execution_count": 35,
   "metadata": {
    "collapsed": false
   },
   "outputs": [
    {
     "data": {
      "text/plain": [
       "array([[118,  22],\n",
       "       [ 73,  89]])"
      ]
     },
     "execution_count": 35,
     "metadata": {},
     "output_type": "execute_result"
    }
   ],
   "source": [
    "mtrx = confusion_matrix(y_test,knn_pred)\n",
    "mtrx"
   ]
  },
  {
   "cell_type": "code",
   "execution_count": 36,
   "metadata": {
    "collapsed": true
   },
   "outputs": [],
   "source": [
    "addeval('KNN',knn.score(X_train,y_train), knn.score(X_test, y_test),mtrx[0,0],mtrx[1,1])"
   ]
  },
  {
   "cell_type": "markdown",
   "metadata": {},
   "source": [
    "# Gaussian NB "
   ]
  },
  {
   "cell_type": "code",
   "execution_count": 37,
   "metadata": {
    "collapsed": false
   },
   "outputs": [
    {
     "data": {
      "text/plain": [
       "(0.69607843137254899, 0.72847682119205293, -0.032398389819503937)"
      ]
     },
     "execution_count": 37,
     "metadata": {},
     "output_type": "execute_result"
    }
   ],
   "source": [
    "gauss = GaussianNB()\n",
    "gauss_pred = gauss.fit(X_train, y_train).predict(X_test)\n",
    "gauss.score(X_train,y_train), gauss.score(X_test,y_test), gauss.score(X_train,y_train)-gauss.score(X_test,y_test)"
   ]
  },
  {
   "cell_type": "code",
   "execution_count": 38,
   "metadata": {
    "collapsed": false
   },
   "outputs": [
    {
     "data": {
      "text/plain": [
       "array([[114,  26],\n",
       "       [ 56, 106]])"
      ]
     },
     "execution_count": 38,
     "metadata": {},
     "output_type": "execute_result"
    }
   ],
   "source": [
    "mtrx = confusion_matrix(y_test,gauss_pred)\n",
    "mtrx"
   ]
  },
  {
   "cell_type": "code",
   "execution_count": 39,
   "metadata": {
    "collapsed": true
   },
   "outputs": [],
   "source": [
    "addeval('GaussNB',gauss.score(X_train,y_train), gauss.score(X_test, y_test),mtrx[0,0],mtrx[1,1])"
   ]
  },
  {
   "cell_type": "markdown",
   "metadata": {},
   "source": [
    "# Perceptron"
   ]
  },
  {
   "cell_type": "code",
   "execution_count": 40,
   "metadata": {
    "collapsed": false
   },
   "outputs": [
    {
     "data": {
      "text/plain": [
       "(0.65196078431372551, 0.66887417218543044, -0.016913387871704932)"
      ]
     },
     "execution_count": 40,
     "metadata": {},
     "output_type": "execute_result"
    }
   ],
   "source": [
    "perc = Perceptron(verbose=0, alpha = 0.1, fit_intercept = True, class_weight = 'balanced')\n",
    "perc_pred = perc.fit(X_train, y_train).predict(X_test)\n",
    "perc.score(X_train,y_train), perc.score(X_test,y_test), perc.score(X_train,y_train)-perc.score(X_test,y_test)"
   ]
  },
  {
   "cell_type": "code",
   "execution_count": 41,
   "metadata": {
    "collapsed": false
   },
   "outputs": [
    {
     "data": {
      "text/plain": [
       "array([[ 92,  48],\n",
       "       [ 52, 110]])"
      ]
     },
     "execution_count": 41,
     "metadata": {},
     "output_type": "execute_result"
    }
   ],
   "source": [
    "mtrx = confusion_matrix(y_test,perc_pred)\n",
    "mtrx"
   ]
  },
  {
   "cell_type": "code",
   "execution_count": 42,
   "metadata": {
    "collapsed": true
   },
   "outputs": [],
   "source": [
    "addeval('Perc',perc.score(X_train,y_train), perc.score(X_test, y_test),mtrx[0,0],mtrx[1,1])"
   ]
  },
  {
   "cell_type": "markdown",
   "metadata": {},
   "source": [
    "# Stochastic Gradient Descent"
   ]
  },
  {
   "cell_type": "code",
   "execution_count": 43,
   "metadata": {
    "collapsed": false
   },
   "outputs": [
    {
     "data": {
      "text/plain": [
       "(0.67810457516339873, 0.69867549668874174, -0.020570921525343011)"
      ]
     },
     "execution_count": 43,
     "metadata": {},
     "output_type": "execute_result"
    }
   ],
   "source": [
    "sgd = SGDClassifier(loss = 'squared_hinge')\n",
    "sgd_pred = sgd.fit(X_train, y_train).predict(X_test)\n",
    "sgd.score(X_train,y_train), sgd.score(X_test,y_test), sgd.score(X_train,y_train)-sgd.score(X_test,y_test)"
   ]
  },
  {
   "cell_type": "code",
   "execution_count": 44,
   "metadata": {
    "collapsed": false
   },
   "outputs": [
    {
     "data": {
      "text/plain": [
       "array([[104,  36],\n",
       "       [ 55, 107]])"
      ]
     },
     "execution_count": 44,
     "metadata": {},
     "output_type": "execute_result"
    }
   ],
   "source": [
    "mtrx = confusion_matrix(y_test,sgd_pred)\n",
    "mtrx"
   ]
  },
  {
   "cell_type": "code",
   "execution_count": 45,
   "metadata": {
    "collapsed": true
   },
   "outputs": [],
   "source": [
    "addeval('SGD',sgd.score(X_train,y_train), sgd.score(X_test, y_test),mtrx[0,0],mtrx[1,1])"
   ]
  },
  {
   "cell_type": "code",
   "execution_count": 46,
   "metadata": {
    "collapsed": false
   },
   "outputs": [
    {
     "data": {
      "text/html": [
       "<div>\n",
       "<table border=\"1\" class=\"dataframe\">\n",
       "  <thead>\n",
       "    <tr style=\"text-align: right;\">\n",
       "      <th></th>\n",
       "      <th>method</th>\n",
       "      <th>trainscore</th>\n",
       "      <th>testscore</th>\n",
       "      <th>truepos</th>\n",
       "      <th>trueneg</th>\n",
       "    </tr>\n",
       "  </thead>\n",
       "  <tbody>\n",
       "    <tr>\n",
       "      <th>0</th>\n",
       "      <td>SVC</td>\n",
       "      <td>0.720588</td>\n",
       "      <td>0.718543</td>\n",
       "      <td>121.0</td>\n",
       "      <td>96.0</td>\n",
       "    </tr>\n",
       "    <tr>\n",
       "      <th>0</th>\n",
       "      <td>Neural Net</td>\n",
       "      <td>0.709150</td>\n",
       "      <td>0.715232</td>\n",
       "      <td>118.0</td>\n",
       "      <td>98.0</td>\n",
       "    </tr>\n",
       "    <tr>\n",
       "      <th>0</th>\n",
       "      <td>Extra Trees</td>\n",
       "      <td>1.000000</td>\n",
       "      <td>0.672185</td>\n",
       "      <td>110.0</td>\n",
       "      <td>93.0</td>\n",
       "    </tr>\n",
       "    <tr>\n",
       "      <th>0</th>\n",
       "      <td>Ada</td>\n",
       "      <td>1.000000</td>\n",
       "      <td>0.652318</td>\n",
       "      <td>104.0</td>\n",
       "      <td>93.0</td>\n",
       "    </tr>\n",
       "    <tr>\n",
       "      <th>0</th>\n",
       "      <td>KNN</td>\n",
       "      <td>0.702614</td>\n",
       "      <td>0.685430</td>\n",
       "      <td>118.0</td>\n",
       "      <td>89.0</td>\n",
       "    </tr>\n",
       "    <tr>\n",
       "      <th>0</th>\n",
       "      <td>GaussNB</td>\n",
       "      <td>0.696078</td>\n",
       "      <td>0.728477</td>\n",
       "      <td>114.0</td>\n",
       "      <td>106.0</td>\n",
       "    </tr>\n",
       "    <tr>\n",
       "      <th>0</th>\n",
       "      <td>Perc</td>\n",
       "      <td>0.651961</td>\n",
       "      <td>0.668874</td>\n",
       "      <td>92.0</td>\n",
       "      <td>110.0</td>\n",
       "    </tr>\n",
       "    <tr>\n",
       "      <th>0</th>\n",
       "      <td>SGD</td>\n",
       "      <td>0.678105</td>\n",
       "      <td>0.698675</td>\n",
       "      <td>104.0</td>\n",
       "      <td>107.0</td>\n",
       "    </tr>\n",
       "  </tbody>\n",
       "</table>\n",
       "</div>"
      ],
      "text/plain": [
       "        method  trainscore  testscore  truepos  trueneg\n",
       "0          SVC    0.720588   0.718543    121.0     96.0\n",
       "0   Neural Net    0.709150   0.715232    118.0     98.0\n",
       "0  Extra Trees    1.000000   0.672185    110.0     93.0\n",
       "0          Ada    1.000000   0.652318    104.0     93.0\n",
       "0          KNN    0.702614   0.685430    118.0     89.0\n",
       "0      GaussNB    0.696078   0.728477    114.0    106.0\n",
       "0         Perc    0.651961   0.668874     92.0    110.0\n",
       "0          SGD    0.678105   0.698675    104.0    107.0"
      ]
     },
     "execution_count": 46,
     "metadata": {},
     "output_type": "execute_result"
    }
   ],
   "source": [
    "m_eval"
   ]
  },
  {
   "cell_type": "code",
   "execution_count": 47,
   "metadata": {
    "collapsed": false,
    "scrolled": true
   },
   "outputs": [],
   "source": [
    "mm1_eval = pd.melt(m_eval[['method','truepos','trueneg']], \"method\", var_name=\"measurement\")\n",
    "mm2_eval = pd.melt(m_eval[['method','trainscore','testscore']], \"method\", var_name=\"measurement\")"
   ]
  },
  {
   "cell_type": "code",
   "execution_count": 48,
   "metadata": {
    "collapsed": false
   },
   "outputs": [
    {
     "data": {
      "image/png": "[encoded data removed]",
      "text/plain": [
       "<matplotlib.figure.Figure at 0x140983640b8>"
      ]
     },
     "metadata": {},
     "output_type": "display_data"
    }
   ],
   "source": [
    "sns.pointplot(x=\"method\", y=\"value\", hue=\"measurement\", data=mm1_eval);"
   ]
  },
  {
   "cell_type": "code",
   "execution_count": 49,
   "metadata": {
    "collapsed": false
   },
   "outputs": [
    {
     "data": {
      "image/png": "[encoded data removed]",
      "text/plain": [
       "<matplotlib.figure.Figure at 0x1409a704cc0>"
      ]
     },
     "metadata": {},
     "output_type": "display_data"
    }
   ],
   "source": [
    "sns.pointplot(x=\"method\", y=\"value\", hue=\"measurement\", data=mm2_eval);"
   ]
  },
  {
   "cell_type": "markdown",
   "metadata": {
    "collapsed": false,
    "scrolled": true
   },
   "source": [
    "mtrx = confusion_matrix(y_test,y_pred)\n",
    "np.set_printoptions(precision = 2)\n",
    "\n",
    "sns.set(style = 'white')\n",
    "plt.figure()\n",
    "plot_confusion_matrix(mtrx,classes=class_names,title='Confusion matrix, without normalization')\n",
    "\n",
    "plt.figure()\n",
    "plot_confusion_matrix(mtrx, classes=class_names, normalize = True, title='Normalized confusion matrix')\n",
    "\n",
    "#plt.show()"
   ]
  },
  {
   "cell_type": "markdown",
   "metadata": {},
   "source": [
    "up_season = scaler.transform(up_season)"
   ]
  },
  {
   "cell_type": "markdown",
   "metadata": {
    "collapsed": false
   },
   "source": [
    "t = pd.DataFrame(svc.predict_proba(up_season), columns = ['predicted','inverse'])\n",
    "up_season['predicted'] = t['inverse']\n",
    "up['predicted'] = t['inverse']"
   ]
  },
  {
   "cell_type": "markdown",
   "metadata": {
    "collapsed": false
   },
   "source": [
    "up_season.head(1)"
   ]
  },
  {
   "cell_type": "markdown",
   "metadata": {
    "collapsed": false
   },
   "source": [
    "log_loss(up['team1_win'],up['predicted'])"
   ]
  },
  {
   "cell_type": "markdown",
   "metadata": {
    "collapsed": false
   },
   "source": [
    "p = sns.PairGrid(up_season, hue = 'team1_win', palette = 'Reds')\n",
    "p.map_upper(plt.scatter, s = 20, edgecolor = 'w')\n",
    "p.map_diag(plt.hist)\n",
    "p.map_lower(plt.scatter, s = 20, edgecolor = 'w')\n",
    "p.add_legend()\n",
    "\n",
    "p.figsize = (30,30)"
   ]
  },
  {
   "cell_type": "code",
   "execution_count": 50,
   "metadata": {
    "collapsed": false
   },
   "outputs": [],
   "source": [
    "#up.to_csv('C:\\\\Users\\\\Travis Park\\\\Google Drive\\\\Spring 2017\\\\March Madness\\\\Data\\\\Predictions\\\\SVM1.csv')"
   ]
  },
  {
   "cell_type": "markdown",
   "metadata": {
    "collapsed": false
   },
   "source": [
    "matchs.to_csv('C:\\\\Users\\\\Travis Park\\\\Google Drive\\\\Spring 2017\\\\March Madness\\\\Data\\\\teams.csv')\n"
   ]
  },
  {
   "cell_type": "markdown",
   "metadata": {},
   "source": [
    "**Predict All Possible Matchups**"
   ]
  },
  {
   "cell_type": "code",
   "execution_count": 51,
   "metadata": {
    "collapsed": false
   },
   "outputs": [],
   "source": [
    "up_pred = pd.read_excel('C:\\\\Users\\\\Travis Park\\\\Google Drive\\\\Spring 2017\\\\March Madness\\\\Data\\\\Frame.xlsx', sheet = 'Sheet1')"
   ]
  },
  {
   "cell_type": "code",
   "execution_count": 52,
   "metadata": {
    "collapsed": true
   },
   "outputs": [],
   "source": [
    "years = [2013,2014,2015,2016]"
   ]
  },
  {
   "cell_type": "code",
   "execution_count": 53,
   "metadata": {
    "collapsed": false
   },
   "outputs": [
    {
     "data": {
      "text/plain": [
       "['R_seed',\n",
       " 'R_rpi_rating',\n",
       " 'R_adjRPI',\n",
       " 'R_ascore',\n",
       " 'R_aagainst',\n",
       " 'R_ato',\n",
       " 'R_shoot',\n",
       " 'R_3shoot']"
      ]
     },
     "execution_count": 53,
     "metadata": {},
     "output_type": "execute_result"
    }
   ],
   "source": [
    "up_pred = up_pred[(up_pred['Year'].isin(years))]\n",
    "tup = up_pred.ix[:,4:12]\n",
    "list(tup.columns)"
   ]
  },
  {
   "cell_type": "code",
   "execution_count": 54,
   "metadata": {
    "collapsed": false
   },
   "outputs": [],
   "source": [
    "clust = kmeans.predict(tup)\n",
    "tup['Clust'] = clust\n",
    "tup.head()\n",
    "\n",
    "tup = pd.merge(tup,c_score, how = 'left', left_on = 'Clust',right_on = 'Clust')\n",
    "tup = tup.drop('Clust',axis = 1)"
   ]
  },
  {
   "cell_type": "code",
   "execution_count": 55,
   "metadata": {
    "collapsed": false
   },
   "outputs": [],
   "source": [
    "p = pd.DataFrame(nn.predict_proba(tup),columns = ['predicted','inverse'])\n",
    "q = pd.DataFrame(svc.predict_proba(tup),columns = ['predicted','inverse'])"
   ]
  },
  {
   "cell_type": "code",
   "execution_count": 56,
   "metadata": {
    "collapsed": false
   },
   "outputs": [
    {
     "data": {
      "text/plain": [
       "(9112, 9112)"
      ]
     },
     "execution_count": 56,
     "metadata": {},
     "output_type": "execute_result"
    }
   ],
   "source": [
    "len(tup),len(p)"
   ]
  },
  {
   "cell_type": "code",
   "execution_count": 57,
   "metadata": {
    "collapsed": false
   },
   "outputs": [
    {
     "data": {
      "text/html": [
       "<div>\n",
       "<table border=\"1\" class=\"dataframe\">\n",
       "  <thead>\n",
       "    <tr style=\"text-align: right;\">\n",
       "      <th></th>\n",
       "      <th>Year</th>\n",
       "      <th>Team1</th>\n",
       "      <th>Team2</th>\n",
       "      <th>id</th>\n",
       "      <th>R_seed</th>\n",
       "      <th>R_rpi_rating</th>\n",
       "      <th>R_adjRPI</th>\n",
       "      <th>R_ascore</th>\n",
       "      <th>R_aagainst</th>\n",
       "      <th>R_ato</th>\n",
       "      <th>...</th>\n",
       "      <th>1seed2</th>\n",
       "      <th>1rpi2</th>\n",
       "      <th>1adjrpi2</th>\n",
       "      <th>1ascore2</th>\n",
       "      <th>1aagainst2</th>\n",
       "      <th>1ato2</th>\n",
       "      <th>1ashoot2</th>\n",
       "      <th>1a3shoot3</th>\n",
       "      <th>nnpred</th>\n",
       "      <th>svcpred</th>\n",
       "    </tr>\n",
       "  </thead>\n",
       "  <tbody>\n",
       "    <tr>\n",
       "      <th>0</th>\n",
       "      <td>2013</td>\n",
       "      <td>1231</td>\n",
       "      <td>1274</td>\n",
       "      <td>2013_1231_1274</td>\n",
       "      <td>0.500000</td>\n",
       "      <td>0.991455</td>\n",
       "      <td>0.995917</td>\n",
       "      <td>1.009688</td>\n",
       "      <td>1.057272</td>\n",
       "      <td>1.144715</td>\n",
       "      <td>...</td>\n",
       "      <td>2</td>\n",
       "      <td>0.635635</td>\n",
       "      <td>0.639878</td>\n",
       "      <td>73.818182</td>\n",
       "      <td>67.090909</td>\n",
       "      <td>11.181818</td>\n",
       "      <td>0.462054</td>\n",
       "      <td>0.388611</td>\n",
       "      <td>0.500089</td>\n",
       "      <td>0.455578</td>\n",
       "    </tr>\n",
       "    <tr>\n",
       "      <th>1</th>\n",
       "      <td>2013</td>\n",
       "      <td>1231</td>\n",
       "      <td>1266</td>\n",
       "      <td>2013_1231_1266</td>\n",
       "      <td>0.333333</td>\n",
       "      <td>1.041433</td>\n",
       "      <td>1.045860</td>\n",
       "      <td>1.175890</td>\n",
       "      <td>1.072248</td>\n",
       "      <td>0.885106</td>\n",
       "      <td>...</td>\n",
       "      <td>3</td>\n",
       "      <td>0.605131</td>\n",
       "      <td>0.609322</td>\n",
       "      <td>63.384615</td>\n",
       "      <td>66.153846</td>\n",
       "      <td>14.461538</td>\n",
       "      <td>0.449383</td>\n",
       "      <td>0.309510</td>\n",
       "      <td>0.551681</td>\n",
       "      <td>0.526845</td>\n",
       "    </tr>\n",
       "    <tr>\n",
       "      <th>2</th>\n",
       "      <td>2013</td>\n",
       "      <td>1231</td>\n",
       "      <td>1393</td>\n",
       "      <td>2013_1231_1393</td>\n",
       "      <td>0.250000</td>\n",
       "      <td>1.018958</td>\n",
       "      <td>1.020402</td>\n",
       "      <td>1.216540</td>\n",
       "      <td>1.125926</td>\n",
       "      <td>0.989691</td>\n",
       "      <td>...</td>\n",
       "      <td>4</td>\n",
       "      <td>0.618478</td>\n",
       "      <td>0.624524</td>\n",
       "      <td>61.266667</td>\n",
       "      <td>63.000000</td>\n",
       "      <td>12.933333</td>\n",
       "      <td>0.411019</td>\n",
       "      <td>0.318593</td>\n",
       "      <td>0.548896</td>\n",
       "      <td>0.534071</td>\n",
       "    </tr>\n",
       "    <tr>\n",
       "      <th>3</th>\n",
       "      <td>2013</td>\n",
       "      <td>1231</td>\n",
       "      <td>1424</td>\n",
       "      <td>2013_1231_1424</td>\n",
       "      <td>0.200000</td>\n",
       "      <td>1.046843</td>\n",
       "      <td>1.049933</td>\n",
       "      <td>1.063677</td>\n",
       "      <td>1.028019</td>\n",
       "      <td>0.909645</td>\n",
       "      <td>...</td>\n",
       "      <td>5</td>\n",
       "      <td>0.602004</td>\n",
       "      <td>0.606958</td>\n",
       "      <td>70.071429</td>\n",
       "      <td>69.000000</td>\n",
       "      <td>14.071429</td>\n",
       "      <td>0.419632</td>\n",
       "      <td>0.334719</td>\n",
       "      <td>0.559503</td>\n",
       "      <td>0.524480</td>\n",
       "    </tr>\n",
       "    <tr>\n",
       "      <th>4</th>\n",
       "      <td>2013</td>\n",
       "      <td>1231</td>\n",
       "      <td>1301</td>\n",
       "      <td>2013_1231_1301</td>\n",
       "      <td>0.125000</td>\n",
       "      <td>1.056074</td>\n",
       "      <td>1.061715</td>\n",
       "      <td>0.990476</td>\n",
       "      <td>0.875720</td>\n",
       "      <td>1.003922</td>\n",
       "      <td>...</td>\n",
       "      <td>8</td>\n",
       "      <td>0.596742</td>\n",
       "      <td>0.600222</td>\n",
       "      <td>75.250000</td>\n",
       "      <td>81.000000</td>\n",
       "      <td>12.750000</td>\n",
       "      <td>0.492305</td>\n",
       "      <td>0.401633</td>\n",
       "      <td>0.580367</td>\n",
       "      <td>0.526234</td>\n",
       "    </tr>\n",
       "  </tbody>\n",
       "</table>\n",
       "<p>5 rows × 30 columns</p>\n",
       "</div>"
      ],
      "text/plain": [
       "   Year  Team1  Team2              id    R_seed  R_rpi_rating  R_adjRPI  \\\n",
       "0  2013   1231   1274  2013_1231_1274  0.500000      0.991455  0.995917   \n",
       "1  2013   1231   1266  2013_1231_1266  0.333333      1.041433  1.045860   \n",
       "2  2013   1231   1393  2013_1231_1393  0.250000      1.018958  1.020402   \n",
       "3  2013   1231   1424  2013_1231_1424  0.200000      1.046843  1.049933   \n",
       "4  2013   1231   1301  2013_1231_1301  0.125000      1.056074  1.061715   \n",
       "\n",
       "   R_ascore  R_aagainst     R_ato    ...     1seed2     1rpi2  1adjrpi2  \\\n",
       "0  1.009688    1.057272  1.144715    ...          2  0.635635  0.639878   \n",
       "1  1.175890    1.072248  0.885106    ...          3  0.605131  0.609322   \n",
       "2  1.216540    1.125926  0.989691    ...          4  0.618478  0.624524   \n",
       "3  1.063677    1.028019  0.909645    ...          5  0.602004  0.606958   \n",
       "4  0.990476    0.875720  1.003922    ...          8  0.596742  0.600222   \n",
       "\n",
       "    1ascore2  1aagainst2      1ato2  1ashoot2  1a3shoot3    nnpred   svcpred  \n",
       "0  73.818182   67.090909  11.181818  0.462054   0.388611  0.500089  0.455578  \n",
       "1  63.384615   66.153846  14.461538  0.449383   0.309510  0.551681  0.526845  \n",
       "2  61.266667   63.000000  12.933333  0.411019   0.318593  0.548896  0.534071  \n",
       "3  70.071429   69.000000  14.071429  0.419632   0.334719  0.559503  0.524480  \n",
       "4  75.250000   81.000000  12.750000  0.492305   0.401633  0.580367  0.526234  \n",
       "\n",
       "[5 rows x 30 columns]"
      ]
     },
     "execution_count": 57,
     "metadata": {},
     "output_type": "execute_result"
    }
   ],
   "source": [
    "up_pred['nnpred'] = p['inverse']\n",
    "up_pred['svcpred'] = q['inverse']\n",
    "#up_pred['scale'] = minmax_scale(up_pred['nnpred'], feature_range=(0.4,0.6),axis = 0, copy = True)\n",
    "up_pred.head()"
   ]
  },
  {
   "cell_type": "code",
   "execution_count": 58,
   "metadata": {
    "collapsed": false
   },
   "outputs": [],
   "source": [
    "#up_pred[['id','nnpred','svcpred']].to_csv('C:\\\\Users\\\\Travis Park\\\\Google Drive\\\\Spring 2017\\\\March Madness\\\\Data\\\\Predictions\\\\Kagglesub5.csv')"
   ]
  },
  {
   "cell_type": "code",
   "execution_count": null,
   "metadata": {
    "collapsed": true
   },
   "outputs": [],
   "source": []
  }
 ],
 "metadata": {
  "anaconda-cloud": {},
  "kernelspec": {
   "display_name": "Python [conda root]",
   "language": "python",
   "name": "conda-root-py"
  },
  "language_info": {
   "codemirror_mode": {
    "name": "ipython",
    "version": 3
   },
   "file_extension": ".py",
   "mimetype": "text/x-python",
   "name": "python",
   "nbconvert_exporter": "python",
   "pygments_lexer": "ipython3",
   "version": "3.5.2"
  }
 },
 "nbformat": 4,
 "nbformat_minor": 1
}
